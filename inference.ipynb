{
 "cells": [
  {
   "cell_type": "markdown",
   "id": "88bf458f",
   "metadata": {},
   "source": [
    "# EyesMol model의 inference 코드\n",
    "( 0.3 epochs checkpoint 테스트 - 수정예정 )"
   ]
  },
  {
   "cell_type": "code",
   "execution_count": 29,
   "id": "fe2311ec",
   "metadata": {},
   "outputs": [],
   "source": [
    "import sys\n",
    "import os\n",
    "import torch\n",
    "import json\n",
    "from PIL import Image\n",
    "import time\n",
    "from pathlib import Path\n",
    "from tqdm import tqdm\n",
    "from qwen_vl_utils import process_vision_info\n",
    "from rdkit import Chem"
   ]
  },
  {
   "cell_type": "code",
   "execution_count": 30,
   "id": "940c9776",
   "metadata": {},
   "outputs": [
    {
     "name": "stdout",
     "output_type": "stream",
     "text": [
      "라이브러리 로드 완료!\n"
     ]
    }
   ],
   "source": [
    "sys.path.append('/workspace/EyesMolProject/Qwen2-VL-Finetune')\n",
    "from src.utils import load_pretrained_model, get_model_name_from_path, disable_torch_init\n",
    "print(\"라이브러리 로드 완료!\")"
   ]
  },
  {
   "cell_type": "code",
   "execution_count": 31,
   "id": "7af45823",
   "metadata": {},
   "outputs": [
    {
     "name": "stderr",
     "output_type": "stream",
     "text": [
      "huggingface/tokenizers: The current process just got forked, after parallelism has already been used. Disabling parallelism to avoid deadlocks...\n",
      "To disable this warning, you can either:\n",
      "\t- Avoid using `tokenizers` before the fork if possible\n",
      "\t- Explicitly set the environment variable TOKENIZERS_PARALLELISM=(true | false)\n"
     ]
    },
    {
     "name": "stdout",
     "output_type": "stream",
     "text": [
      "[2025-08-29 04:42:46,346] [INFO] [real_accelerator.py:239:get_accelerator] Setting ds_accelerator to cuda (auto detect)\n",
      "Loading Qwen2-VL from base model...\n",
      "Loading checkpoint shards: 100%|██████████████████| 2/2 [00:03<00:00,  1.72s/it]\n",
      "Loading additional Qwen2-VL weights...\n",
      "Loading LoRA weights...\n",
      "Merging LoRA weights...\n",
      "Model Loaded!!!\n"
     ]
    }
   ],
   "source": [
    "# LoRA 모델 병합\n",
    "lora_path = '/workspace/checkpoint-40000'\n",
    "save_path = '/workspace/checkpoint_merge'  # 기존에 있는 폴더 사용\n",
    "model_base = '/workspace/EyesMolProject/Qwen2.5-VL-3B-Instruct'\n",
    "\n",
    "# f-string을 사용하여 변수를 명령어에 전달\n",
    "!python /workspace/EyesMolProject/Qwen2-VL-Finetune/src/merge_lora_weights.py --model-path {lora_path} --model-base {model_base} --save-model-path {save_path}"
   ]
  },
  {
   "cell_type": "code",
   "execution_count": 42,
   "id": "03843266",
   "metadata": {},
   "outputs": [
    {
     "name": "stdout",
     "output_type": "stream",
     "text": [
      "모델 경로: /workspace/checkpoint_merge\n",
      "베이스 모델: /workspace/EyesMolProject/Qwen2.5-VL-3B-Instruct\n",
      "디바이스: cuda\n"
     ]
    }
   ],
   "source": [
    "# 모델 경로 설정\n",
    "MODEL_PATH = save_path\n",
    "MODEL_BASE = model_base  # 이제 위 셀에서 정의된 변수 사용 가능\n",
    "DEVICE = torch.device(\"cuda\" if torch.cuda.is_available() else \"cpu\")\n",
    "\n",
    "# 생성 파라미터\n",
    "MAX_NEW_TOKENS = 512\n",
    "\n",
    "print(f\"모델 경로: {MODEL_PATH}\")\n",
    "print(f\"베이스 모델: {MODEL_BASE}\")\n",
    "print(f\"디바이스: {DEVICE}\")"
   ]
  },
  {
   "cell_type": "code",
   "execution_count": 43,
   "id": "d5e01604",
   "metadata": {},
   "outputs": [
    {
     "name": "stdout",
     "output_type": "stream",
     "text": [
      "Loading model from /workspace/checkpoint_merge as a standard model. Adapter files were not found, so it can't be merged\n"
     ]
    },
    {
     "data": {
      "application/vnd.jupyter.widget-view+json": {
       "model_id": "9a76cdb43e464b09bac8b7ef6d1daaf8",
       "version_major": 2,
       "version_minor": 0
      },
      "text/plain": [
       "Loading checkpoint shards:   0%|          | 0/2 [00:00<?, ?it/s]"
      ]
     },
     "metadata": {},
     "output_type": "display_data"
    },
    {
     "name": "stdout",
     "output_type": "stream",
     "text": [
      "모델 로드 완료!\n"
     ]
    }
   ],
   "source": [
    "# 모델 로드\n",
    "disable_torch_init()\n",
    "model_name = get_model_name_from_path(MODEL_PATH)\n",
    "processor, model = load_pretrained_model(\n",
    "    model_base=MODEL_BASE,\n",
    "    model_path=MODEL_PATH,\n",
    "    device_map=DEVICE,\n",
    "    model_name=model_name,\n",
    "    load_4bit=False,\n",
    "    load_8bit=False,\n",
    "    device=DEVICE,\n",
    "    use_flash_attn=True,\n",
    "    use_fast=True\n",
    ")\n",
    "\n",
    "print(\"모델 로드 완료!\")"
   ]
  },
  {
   "cell_type": "code",
   "execution_count": null,
   "id": "0b6613fb",
   "metadata": {},
   "outputs": [],
   "source": [
    "def generate_response(question, image_path=None):\n",
    "    start_time = time.time()\n",
    "    conversation = []\n",
    "    user_content = []\n",
    "\n",
    "    if image_path:\n",
    "        user_content.append({\"type\": \"image\", \"image\": image_path})\n",
    "    if question:\n",
    "        user_content.append({\"type\": \"text\", \"text\": question})\n",
    "\n",
    "    conversation.append({\"role\": \"user\", \"content\": user_content})\n",
    "    prompt = processor.apply_chat_template(conversation, tokenize=False, add_generation_prompt=True)\n",
    "    image_inputs, video_inputs = process_vision_info(conversation)\n",
    "\n",
    "    inputs = processor(\n",
    "        text=[prompt], \n",
    "        images=image_inputs, \n",
    "        videos=video_inputs, \n",
    "        padding=True, \n",
    "        return_tensors=\"pt\"\n",
    "    ).to(DEVICE)\n",
    "\n",
    "    generation_args = {\n",
    "        \"max_new_tokens\": MAX_NEW_TOKENS,\n",
    "        \"do_sample\": False,\n",
    "        \"eos_token_id\": processor.tokenizer.eos_token_id,\n",
    "        'no_repeat_ngram_size' : 3,\n",
    "        'temperature':None\n",
    "    }\n",
    "\n",
    "    with torch.no_grad():\n",
    "        output_ids = model.generate(**inputs, **generation_args)\n",
    "        \n",
    "    input_token_len = inputs['input_ids'].shape[1]\n",
    "    response_ids = output_ids[:, input_token_len:]\n",
    "    response = processor.tokenizer.decode(response_ids[0], skip_special_tokens=True, clean_up_tokenization_spaces=False)\n",
    "    inference_time = time.time() - start_time\n",
    "    return response, inference_time"
   ]
  },
  {
   "cell_type": "code",
   "execution_count": 41,
   "id": "119c9e10",
   "metadata": {},
   "outputs": [
    {
     "name": "stdout",
     "output_type": "stream",
     "text": [
      "모델 \n",
      " 응답 : 이 분자의 주요 결합은 다리의 이중 결합과 산의 산화물 결합입니다. 이 분자 구조는 다리가 산에 결합된 형태로 보입니다.\n",
      "소요시간 (초) : 1.825587511062622\n"
     ]
    }
   ],
   "source": [
    "image_path = \"/workspace/27732.png\" # chebi 카페인 이미지\n",
    "question_with_image = \"이 분자구조에서 결합의 종류는?\"\n",
    "response, inference_time = generate_response(question_with_image, image_path=image_path)\n",
    "print(f'모델 \\n 응답 : {response}')\n",
    "print(f'소요시간 (초) : {inference_time}')"
   ]
  },
  {
   "cell_type": "code",
   "execution_count": null,
   "id": "286bd692",
   "metadata": {},
   "outputs": [],
   "source": []
  },
  {
   "cell_type": "code",
   "execution_count": null,
   "id": "71c63349",
   "metadata": {},
   "outputs": [],
   "source": []
  },
  {
   "cell_type": "code",
   "execution_count": null,
   "id": "2b48b8d9",
   "metadata": {},
   "outputs": [],
   "source": []
  },
  {
   "cell_type": "code",
   "execution_count": null,
   "id": "f0563401",
   "metadata": {},
   "outputs": [],
   "source": []
  }
 ],
 "metadata": {
  "kernelspec": {
   "display_name": "venv",
   "language": "python",
   "name": "python3"
  },
  "language_info": {
   "codemirror_mode": {
    "name": "ipython",
    "version": 3
   },
   "file_extension": ".py",
   "mimetype": "text/x-python",
   "name": "python",
   "nbconvert_exporter": "python",
   "pygments_lexer": "ipython3",
   "version": "3.11.10"
  }
 },
 "nbformat": 4,
 "nbformat_minor": 5
}
